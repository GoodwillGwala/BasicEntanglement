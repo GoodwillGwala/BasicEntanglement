{
// "cells": [
//  {
//   "cell_type": "markdown",
//   "metadata": {},
//   "source": [
//    "# School of Electrical and Information Engineering\n",
//    "### University of the Witwatersrand, Johannesburg\n",
//    "### ELEN4022 — Full Stack Quantum Computing"
//   ]
//  },
//  {
//   "cell_type": "markdown",
//   "metadata": {},
//   "source": [
//    "# Outcome\n",
//    "This is an individual laboratory exercise. You are expected to familiarise yourself, learn and understand the use of the following:\n",
//    "\n",
//    "1. A basic understanding of circuit simulation in Qiskit\n",
//    "2. A thorough understanding of the basic linear algebraic tools used in Quantum Computing\n",
//    "3. Programming idiomatic Python in a Jupyter environment\n",
//    "4. Reporting findings within your notebook using TeX and Markdown features\n",
//    "5. How to use git with notebooks"
//   ]
//  },
//  {
//   "cell_type": "markdown",
//   "metadata": {},
//   "source": [
//    "# Work Schedule\n",
//    "You are expected to have worked through the Getting Started with Qiskit notebook tutorial and have a basic grasp\n",
//    "of the mathematical representation of Quantum Computation (https://cnot.io/contents/ background and quantum computing\n",
//    "is a good start)."
//   ]
//  },
//  {
//   "cell_type": "markdown",
//   "metadata": {},
//   "source": [
//    "### Problem Description: Simulate the unitary of a CNOT Ring to validate an algebraically calculated result of the same structure.\n",
//    "\n",
//    "The CNOT Ring pictured for a 5 qubit system below are a chain of CNOT gates that connect every qubit to its neighbouring\n",
//    "qubit where the last qubit neighbours the first (see https://pennylane.readthedocs.io/en/stable/code/api/pennylane.templates.layers.BasicEntanglerLayers.html). This circuit template finds application in a suite of quantum circuits known as variational quantum algorithms."
//   ]
//  },
//  {
//   "cell_type": "code",
//   "execution_count": 1,
//   "metadata": {},
//   "outputs": [],
//   "source": [
//    "%matplotlib inline\n",
//    "# Importing standard Qiskit libraries\n",
//    "# from qiskit import QuantumCircuit, execute, Aer, IBMQ\n",
//    "# from qiskit.compiler import transpile, assemble\n",
//    "# from qiskit.tools.jupyter import *\n",
//    "# from qiskit.visualization import *\n",
//    "# from ibm_quantum_widgets import *\n",
//    "\n",
//    "from qiskit import *\n",
//    "\n",
//    "# Loading your IBM Q account(s)\n",
//    "provider = IBMQ.load_account()"
//   ]
//  },
//  {
//   "cell_type": "markdown",
//   "metadata": {},
//   "source": [
//    "```python\n",
//    "N_W = 5\n",
//    "circ = QuantumCircuit(N_W)\n",
//    "circ = BasicEntangler(circ)\n",
//    "circ.draw(output='mpl',plot_barriers=True)\n",
//    "```"
//   ]
//  },
//  {
//   "cell_type": "markdown",
//   "metadata": {},
//   "source": [
//    "<img src=\"data:image/png;base64,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\"/>"
//   ]
//  },
//  {
//   "cell_type": "markdown",
//   "metadata": {},
//   "source": [
//    "The final goal is to be able to provide a linear algebraic equation that exactly simulates the result of the unitary of an \n",
//    "arbitary sized CNOT Ring and confirm this by using a Qiskit circuit model simulation."
//   ]
//  },
//  {
//   "cell_type": "markdown",
//   "metadata": {},
//   "source": [
//    "Python natively supports complex number manipulation as well as unicode variables which could be used to make your code \n",
//    "align more closely to the standard mathematical notation. Below shows some standard complex manipulation. Recall\n",
//    "\n",
//    "$$r = |w| = u + jv =\\sqrt{u^2+v^2}.$$\n",
//    "and $$z = r e^{j \\varphi}$$\n",
//    "and $$\\varphi = \\arg (x+jy) = \\begin{cases}\n",
//    "   2 \\arctan\\left(\\dfrac{y}{\\sqrt{x^2 + y^2} + x}\\right) &\\text{if } x > 0 \\text{ or } y \\neq 0, \\\\\n",
//    "   \\pi &\\text{if } x < 0 \\text{ and } y = 0, \\\\\n",
//    "   \\text{undefined} &\\text{if } x = 0 \\text{ and } y = 0.\n",
//    " \\end{cases}$$"
//   ]
//  },
//  {
//   "cell_type": "code",
//   "execution_count": 2,
//   "metadata": {},
//   "outputs": [],
//   "source": [
//    "# Importing standard Python libraries\n",
//    "import numpy as np\n",
//    "import math\n",
//    "# A suggested library for the linear algebra task\n",
//    "from functools import reduce\n",
//    "# For purposes of visualisation in this specific lab\n",
//    "np.set_printoptions(precision=2, suppress=True)"
//   ]
//  },
//  {
//   "cell_type": "code",
//   "execution_count": 3,
//   "metadata": {},
//   "outputs": [
//    {
//     "name": "stdout",
//     "output_type": "stream",
//     "text": [
//      "w = (2.3+5.1j)\n",
//      "|2.3+5.1j| = 5.59\n"
//     ]
//    },
//    {
//     "data": {
//      "text/plain": [
//       "(2.3+5.1j)"
//      ]
//     },
//     "execution_count": 3,
//     "metadata": {},
//     "output_type": "execute_result"
//    }
//   ],
//   "source": [
//    "# Complex numbers\n",
//    "w = 2.3 + 5.1j\n",
//    "print(f'w = {w}')\n",
//    "print(f'|2.3+5.1j| = {np.round(abs(w), 2)}')\n",
//    "\n",
//    "r = abs(w)\n",
//    "φ = np.arctan2(w.imag, w.real)\n",
//    "z = r*np.exp(1j*φ)\n",
//    "z"
//   ]
//  },
//  {
//   "cell_type": "markdown",
//   "metadata": {},
//   "source": [
//    "Common matrix and vector algebra for quantum gates are also easily defined consider:\n",
//    "\n",
//    "$$HH^{\\dagger }=I$$\n",
//    "\n",
//    "and\n",
//    "\n",
//    "$$\\bigotimes_1^2 H = H \\otimes H = \\frac{1}{\\sqrt{2}} \\begin{bmatrix} 1 & 1 \\\\ 1 & -1 \\end{bmatrix} \\otimes \\frac{1}{\\sqrt{2}} \\begin{bmatrix} 1 & 1 \\\\ 1 & -1 \\end{bmatrix} = \\frac{1}{2} \\begin{bmatrix} 1 & 1 & 1 & 1 \\\\ 1 & -1 & 1 & -1 \\\\ 1 & 1 & -1 & -1 \\\\ 1 & -1 & -1 & 1 \\end{bmatrix}$$\n",
//    "\n",
//    "and\n",
//    "\n",
//    "$$\\bigotimes_1^2 H |00\\rangle = \\frac{1}{2} \\begin{bmatrix} 1 & 1 & 1 & 1 \\\\ 1 & -1 & 1 & -1 \\\\ 1 & 1 & -1 & -1 \\\\ 1 & -1 & -1 & 1 \\end{bmatrix} \\begin{bmatrix} 1 \\\\ 0 \\\\ 0 \\\\ 0 \\end{bmatrix} = \\frac{1}{2} \\begin{bmatrix} 1 \\\\ 1 \\\\ 1 \\\\ 1 \\end{bmatrix} = \\frac{1}{2} |00\\rangle + \\frac{1}{2} |01\\rangle +\\frac{1}{2} |10\\rangle +\\frac{1}{2} |11\\rangle = \\frac{|00\\rangle + |01\\rangle + |10\\rangle + |11\\rangle}{2}$$\n",
//    "    \n"
//   ]
//  },
//  {
//   "cell_type": "code",
//   "execution_count": 4,
//   "metadata": {
//    "scrolled": true
//   },
//   "outputs": [
//    {
//     "name": "stdout",
//     "output_type": "stream",
//     "text": [
//      "HH† = |H><H| = \n",
//      "[[ 1. -0.]\n",
//      " [-0.  1.]]\n",
//      "\n",
//      "H⊗H = \n",
//      "[[ 0.5  0.5  0.5  0.5]\n",
//      " [ 0.5 -0.5  0.5 -0.5]\n",
//      " [ 0.5  0.5 -0.5 -0.5]\n",
//      " [ 0.5 -0.5 -0.5  0.5]]\n",
//      "\n",
//      "H|00> = \n",
//      "[0.5 0.5 0.5 0.5]\n",
//      "\n"
//     ]
//    }
//   ],
//   "source": [
//    "H = 1/math.sqrt(2)*np.array([[1, 1], [1, -1]])\n",
//    "print(f'HH† = |H><H| = \\n{H @ H.T.conj()}\\n')\n",
//    "\n",
//    "H2 = np.kron(H, H)\n",
//    "print(f'H⊗H = \\n{H2}\\n')\n",
//    "\n",
//    "e1 = np.array([1, 0])\n",
//    "ket00 = np.kron(e1, e1)\n",
//    "print(f'H|00> = \\n{H2@ket00}\\n')"
//   ]
//  },
//  {
//   "cell_type": "markdown",
//   "metadata": {},
//   "source": [
//    "Idiomatic python usually has flatter and more terse code blocks than for C++\n",
//    "\n",
//    "```cpp\n",
//    "std::vector<int> first_three_multiples(int num)\n",
//    "{\n",
//    "    unsigned short n_elems = 3;\n",
//    "    std::vector<int> v;\n",
//    "    for (int i = 0; i < n_elems; i++)\n",
//    "    {\n",
//    "        v.push_back((i+1)*num);\n",
//    "    }\n",
//    "    return v;\n",
//    "}\n",
//    "```\n",
//    "\n",
//    "The above may for example be written as\n",
//    "\n",
//    "```python\n",
//    "_ = lambda num:[num*_ for _ in (1,2,3)]\n",
//    "_(6)\n",
//    "```\n",
//    "[6, 12, 18]"
//   ]
//  },
//  {
//   "cell_type": "markdown",
//   "metadata": {},
//   "source": [
//    "Think of a way to make the linear algebra managable and scalable.\n",
//    "Think of a way to make the comparison between the linear algebra result and the simulated result.\n",
//    "\n",
//    "<b>Hint: Think of alternative ways to represent gates to make the algebra easier.</b>"
//   ]
//  },
//  {
//   "cell_type": "markdown",
//   "metadata": {},
//   "source": [
//    "# Deliverables\n",
//    "- A Jupyter lab-report concatenated to the brief\n",
//    "- A function or class that creates the CNOT Ring for 5 and 10 wires\n",
//    "- The linear algebra for the system of 5 and 10 wires\n",
//    "- Document what you are doing in the blocks in markdown as you would with a LaTeX report\n",
//    "- Comment on the approach taken to mathematically represent the circuit\n",
//    "- Comment on the comparison of the results\n",
//    "- Your code in the git repository in the Github Organisation\n",
//    "\n",
//    "ELEN4022 Laboratory Exercise 1 — 2021 — Version 1.0."
//   ]
//  },
//  {
//   "cell_type": "markdown",
//   "metadata": {},
//   "source": [
//    "# Lab 1 - Basic Quantum Entangler in Python"
//   ]
//  },
  {
   "cell_type": "markdown",
   "metadata": {},
   "source": [
    "# Introduction"
   ]
  },
  {
   "cell_type": "markdown",
   "metadata": {},
   "source": [
    "This exercise serves as an introduction to Quantum Computing and this lab report will review the basic paradigm of quantum qubits and quantum gates. The objective is to implement a Basic Entangler method using a CNOT Ring quantum gate.\n",
    "\n",
    "The basic building blocks of the Basic Entangler are defined and implemented in Python. "
   ]
  },
  {
   "cell_type": "markdown",
   "metadata": {},
   "source": [
    "# The Qubit"
   ]
  },
  {
   "cell_type": "markdown",
   "metadata": {},
   "source": [
    "The qubit is the quantum analogue of the well known classical bit. The qubit is a mathemaical object or construct with specific properties that represent the fundamental unit of information in a quantum realm (Bloch Sphere. The Bloch sphere represents the quantum theory that a single qubit can store an infinite amount of information i.e. the unmeasured qubit stores information conserved by the dynamic evolution of Schrondingers equation."
   ]
  },
  {
   "cell_type": "markdown",
   "metadata": {},
   "source": [
    "The state of a qubit is generally represented as a vector in a two-dimensional complex Hilbert space often denoted as \n",
    "\n",
    "$$\\left|\\psi\\right\\rangle = \\alpha\\left|0\\right\\rangle + \\beta \\left|1\\right\\rangle = \\begin{pmatrix}\n",
    "\\alpha \\\\\n",
    "\\beta\n",
    "\\end{pmatrix}$$\n",
    "\n",
    "\n",
    "where $\\alpha$ and $\\beta$ are complex numbers. The qubit has two possible states usually respresented as a column vector, \n",
    "\n",
    "$$\n",
    "\\left|0\\right\\rangle =  \n",
    "\\begin{pmatrix}\n",
    "1 \\\\\n",
    "0\n",
    "\\end{pmatrix}\n",
    "$$\n",
    "\n",
    "\n",
    "$$\n",
    "\\left|1\\right\\rangle =  \n",
    "\\begin{pmatrix}\n",
    "0 \\\\\n",
    "1\n",
    "\\end{pmatrix}\n",
    "$$\n",
    "\n",
    "\n",
    "These states can also be represented in a linear mathematical functional form. This introduces the **bra-ket notation**. This is particularly useful in the **Hilbert** spaces which have an inner product that lends itself to **Hermitian** conjugation and presents a vector with a linear functional. Simply put, the **bra** and **ket** represent a row and column vector respectively. This convention allow bras, kets and linear operations to imply matrix multiplication, i.e. the inner product is a column vector multiplied by a row vector.\n",
    "\n",
    "This can be represented programmatically using arrays using Numpy. \n",
    "\n",
    "In Python, we can ecapsulate this representation as a subclass of the Qubit and it's state. \n",
    "\n",
    "\n",
    "\n",
    "\n",
    "\n",
    "\n",
    "\n",
    "\n",
    "\n",
    "<!-- The state of a qubit may be represented as a column vector, and conventionally\n",
    "\n",
    "<!-- $$\n",
    "\\left|0\\right\\rangle =  \n",
    "\\begin{pmatrix}\n",
    "1 \\\\\n",
    "0\n",
    "\\end{pmatrix}.\n",
    "$$ --> \n",
    "\n",
    "\n",
    "\n"
   ]
  },
  {
   "cell_type": "code",
   "execution_count": 5,
   "metadata": {},
   "outputs": [],
   "source": [
    "import numpy as np\n",
    "import math\n",
    "\n",
    "\n",
    "import abc\n",
    "import math\n",
    "import cmath\n",
    "\n",
    "\n",
    "\n",
    "class QBaseState(abc.ABC):\n",
    "    \"\"\"Common properties of quantum states.\n",
    "    This class represents an abstract method used by QBit and QGate.\n",
    "    It presents a column vector and row vector representation \n",
    "    \"\"\"\n",
    "\n",
    "    @property\n",
    "    def ket(self):\n",
    "        return self._state\n",
    "\n",
    "    @property\n",
    "    def bra(self):\n",
    "        return np.conjugate(self._state.T)\n",
    "\n",
    "    @abc.abstractmethod\n",
    "    def __init__(self, state):\n",
    "        self._state = state"
   ]
  },
  {
   "cell_type": "markdown",
   "metadata": {},
   "source": [
    "It may prove useful to define a string initialization of all quantum properties, where ZERO and ONE are string representations of $|0\\rangle$ and $|1\\rangle$ respectively. We may represent a Qbit with a two level quantum system as a class that inherits from the above mentioned QBaseState."
   ]
  },
  {
   "cell_type": "code",
   "execution_count": 6,
   "metadata": {},
   "outputs": [],
   "source": [
    "class QBit(QBaseState):\n",
    "    \"\"\"A two level quantum system.\n",
    "    Attributes:\n",
    "        column vector (ket) and  row vector (bra)\n",
    "    Constants:\n",
    "        ZERO: string representation of 0 qubit\n",
    "        ONE : string representation of 1 qubit\n",
    "    \"\"\"\n",
    "    \n",
    "    ZERO = \"0\"\n",
    "    ONE  = \"1\"\n",
    "\n",
    "\n",
    "    def __init__(self, qubit_str):\n",
    "        \"\"\"initialize a QBit object from its string representation.\n",
    "        Args:\n",
    "            qubit_str:  \"1\" or \"0\"\n",
    "        \"\"\"\n",
    "        if qubit_str == QBit.ZERO:\n",
    "            state = np.array([[1], [0]])\n",
    "        elif qubit_str == QBit.ONE:\n",
    "            state = np.array([[0], [1]])\n",
    "\n",
    "        else:raise ValueError(\"A qubit must be one 0 or 1\")\n",
    "                      \n",
    "        super().__init__(state)\n",
    "        self._state_str = qubit_str\n"
   ]
  },
  {
   "cell_type": "markdown",
   "metadata": {},
   "source": [
    "We have included a variable that further encapsulates the string representation. This allows Qbit objects to be initialized using strings and conveniently by refrencing that string class variable as follows:"
   ]
  },
  {
   "cell_type": "code",
   "execution_count": 7,
   "metadata": {},
   "outputs": [],
   "source": [
    "\n",
    "# Initialize using a string\n",
    "ZERO_STRING = QBit(\"0\")\n",
    "ONE_STRING  = QBit(\"1\")\n",
    "\n",
    "# Initialize using class constant variable\n",
    "ZERO = QBit(QBit.ZERO)\n",
    "ONE  = QBit(QBit.ONE)"
   ]
  },
  {
   "cell_type": "markdown",
   "metadata": {},
   "source": [
    "We can conveniently reference the properties of the Qbit for a column vector representation or it's Hermitian conjugate conterpart as follows:"
   ]
  },
  {
   "cell_type": "code",
   "execution_count": 8,
   "metadata": {},
   "outputs": [
    {
     "name": "stdout",
     "output_type": "stream",
     "text": [
      "ZERO Properties\n",
      "\n",
      "ket\n",
      "|0>\n",
      "\n",
      "[[1]\n",
      " [0]]\n",
      "\n",
      "\n",
      "bra\n",
      "<|0\n",
      "\n",
      "[[1 0]]\n"
     ]
    }
   ],
   "source": [
    "print(\"ZERO Properties\\n\")\n",
    "\n",
    "print(\"ket\\n|0>\\n\")\n",
    "# column vector\n",
    "print(ZERO.ket)\n",
    "\n",
    "# skip line for visualization\n",
    "print()\n",
    "\n",
    "print(\"\\nbra\\n<|0\\n\")\n",
    "# row vector\n",
    "print(ZERO.bra)"
   ]
  },
  {
   "cell_type": "markdown",
   "metadata": {},
   "source": [
    "# The Quantum Gate"
   ]
  },
  {
   "cell_type": "markdown",
   "metadata": {},
   "source": [
    "Quantum gate are the logical units in quantum computing and are implemented as unitary matrix operations that perform rotational manipulations in the Bloch Sphere. Unitary matrices simply perform transformations on qubits while preserving the angle between them.\n",
    "\n",
    "Quantum gates can operator on one or more states. The action of a quantum gate on a single qubit is defined as a matrix mulitplication of the unitary matrix and vector as illustrated below\n",
    "\n",
    "$$\\left|\\psi'\\right\\rangle = U\\left|\\psi\\right\\rangle$$\n",
    "\n",
    "\n",
    "\n",
    "\n"
   ]
  },
  {
   "cell_type": "markdown",
   "metadata": {},
   "source": [
    ">## Single-QuBit Gate\n",
    "\n",
    "\n",
    ">A gate acting upon a single qubit is represented by a $2 \\times 2 $ unitary matrix $U$, where $U$ in general is:\n",
    "\n",
    ">$$\n",
    "U = \\begin{pmatrix}\n",
    "\\cos(\\theta/2) & -e^{i\\lambda}\\sin(\\theta/2) \\\\\n",
    "e^{i\\phi}\\sin(\\theta/2) & e^{i\\lambda+i\\phi}\\cos(\\theta/2) \n",
    "\\end{pmatrix} = U(\\theta, \\phi, \\lambda)  .\n",
    "$$\n"
   ]
  },
  {
   "cell_type": "markdown",
   "metadata": {},
   "source": [
    ">#### The Pauli X Gates\n",
    ">The X-gate, also know as the bit-flip or qunatum NOT operation, is defined by\n",
    "\n",
    ">$$\n",
    "X   =  \n",
    "\\begin{pmatrix}\n",
    "0 & 1\\\\\n",
    "1 & 0\n",
    "\\end{pmatrix}= |0\\rangle\\langle1|+|1\\rangle\\langle0| =  U(\\pi,0,\\pi)\n",
    "$$\n",
    "\n",
    ">This simply means that if a qubit is in state $0$ then  rotate to state $1$ and vice-versa, a $\\pi$ rotation on the Bloch sphere."
   ]
  },
  {
   "cell_type": "markdown",
   "metadata": {},
   "source": [
    "># Multi-QBit Gate\n",
    "As the name implies a multi-qubit gate is  a quantum gate that acts upon multiple qubits.\n",
    "\n",
    ">### The Controlled Quantum Gate\n",
    "Controlled type gates perform action dependent operation. More specifically a controlled two-qubit gate $C_{U}$ applies a unitary $U$ to a second qubit when the state of the first is $\\left|1\\right\\rangle$, where $C_{U}$ \n",
    "\n",
    ">$$\\begin{equation}\n",
    "\tC_U = \\begin{pmatrix}\n",
    "\t1 & 0 & 0 & 0 \\\\\n",
    "\t0 & u_{00} & 0 & u_{01} \\\\\n",
    "\t0 & 0 & 1 & 0 \\\\\n",
    "\t0 & u_{10} &0 & u_{11}\n",
    "\t\t\\end{pmatrix}.\n",
    "\\end{equation}$$\n",
    "\n",
    ">when the `control` is the MSB and\n",
    "\n",
    ">$$\\begin{equation}\n",
    "\tC_U = \\begin{pmatrix}\n",
    "\t1 & 0 & 0  & 0 \\\\\n",
    "\t0 & 1 & 0 & 0 \\\\\n",
    "\t0 & 0 & u_{00} & u_{01} \\\\\n",
    "\t0 & 0 & u_{10} & u_{11}\n",
    "\t\t\\end{pmatrix}.\n",
    "\\end{equation}$$\n",
    "\n",
    "\n",
    ">when the `control` is the LSB\n",
    "\n"
   ]
  },
  {
   "cell_type": "markdown",
   "metadata": {},
   "source": [
    ">### The Controlled-X Gate\n",
    "The controlled-not, denoted $C_{X}$, gate flips the `target` qubit if the `control` is in the state $\\left|1\\right\\rangle$; where\n",
    "\n",
    ">$$\n",
    "C_X = \n",
    "\\begin{pmatrix}\n",
    "1 & 0 & 0 & 0\\\\\n",
    "0 & 1 & 0 & 0\\\\\n",
    "0 & 0 & 0 & 1\\\\\n",
    "0 & 0 & 1 & 0\n",
    "\\end{pmatrix}. \n",
    "$$\n",
    "\n",
    ">when the `control` is the MSB and\n",
    "\n",
    "$$\n",
    "C_X = \n",
    "\\begin{pmatrix}\n",
    "1 & 0 & 0 & 0\\\\\n",
    "0 & 0 & 0 & 1\\\\\n",
    "0 & 0 & 1 & 0\\\\\n",
    "0 & 1 & 0 & 0\n",
    "\\end{pmatrix}. \n",
    "$$\n",
    "\n",
    ">when the `control` is the LSB\n",
    " "
   ]
  },
  {
   "cell_type": "markdown",
   "metadata": {},
   "source": [
    ">A more intuitive way of conceptualizing this operation is to define a quantum if-statement represented by projects of the form $P_{0} =|0\\rangle\\langle0|$ and $P_{1} = |1\\rangle\\langle1|$. Extending this convention to define $C_{X} = P_{0} \\otimes I + P_{1} \\otimes X$, where $\\otimes$ is the kronecker product , $I$ is the indentity operator and $X$ is the pauli X gate defined above. \n",
    "\n",
    "\n",
    "\n",
    ">This convention allows a general 2-qubit control gate that acts on an arbitrary number of states to be defined as follows: \n",
    "\n",
    "<div style=\"background-color:rgba(0, 0, 0, 0); padding:10px 0;font-family:monospace;font-family:monospace;\">\n",
    "    \n",
    "    \n",
    "><font color = \"orange\">while</font> index is less than number of qubits<br> \n",
    "\n",
    ">&nbsp;&nbsp;&nbsp;&nbsp; <font color = \"orange\">if</font> index is control<br>\n",
    "\n",
    ">&nbsp;&nbsp;&nbsp;&nbsp;&nbsp;&nbsp; control matrix is tensored with identitty matrix<br>\n",
    ">&nbsp;&nbsp;&nbsp;&nbsp;&nbsp;&nbsp; target matrix is tensored with quantum gate\n",
    "\n",
    ">&nbsp;&nbsp;&nbsp;&nbsp; <font color = \"orange\">else if</font> index is target<br>\n",
    "\n",
    ">&nbsp;&nbsp;&nbsp;&nbsp;&nbsp;&nbsp; control matrix is tensored  P<sub>1</sub> projector<br>\n",
    ">&nbsp;&nbsp;&nbsp;&nbsp;&nbsp;&nbsp; target matrix is tensored  P<sub>0</sub> projector\n",
    "\n",
    ">&nbsp;&nbsp;&nbsp;&nbsp; <font color = \"orange\">else</font><br> \n",
    ">&nbsp;&nbsp;&nbsp;&nbsp;&nbsp;&nbsp; control matrix is tensored with  identitty matrix<br>\n",
    ">&nbsp;&nbsp;&nbsp;&nbsp;&nbsp;&nbsp; target matrix is tensored with  identitty matrix\n",
    "\n",
    ">&nbsp;&nbsp;&nbsp;increment index\n",
    "\n",
    ">control gate = control matrix + target matrix<br>\n",
    "><font color = \"orange\">return</font> control gate \n"
   ]
  },
  {
   "cell_type": "markdown",
   "metadata": {},
   "source": [
    ">The following Python class defines a Quantum Gate it's properties as well as some attributes that are defined and enforced. The complex attributes of a quantum gate matrix are enfored, the matrix is checked for unitary properties. The multiplication of gates is defined as well as the string initialization of a quantum gate object and the initialization of a quantum control gate object. "
   ]
  },
  {
   "cell_type": "code",
   "execution_count": 9,
   "metadata": {},
   "outputs": [],
   "source": [
    "class QGate(object):\n",
    "    \"\"\"A general quantum gate.\n",
    "    QGate is a representation of a quantum gate using complex numpy matrices.\n",
    "   \n",
    "    Attributes:\n",
    "        matrix: the matrix representation of the gate\n",
    "    \"\"\"\n",
    "\n",
    "    @property\n",
    "    def matrix(self):\n",
    "        \"\"\"Return the matrix.\"\"\"\n",
    "        return self._matrix\n",
    "\n",
    "\n",
    "\n",
    "    def __init__(self, matrix):\n",
    "        \"\"\"Create a quantum gate from a numpy matrix.\n",
    "        \n",
    "        Args:\n",
    "            matrix: a complex typed numpy matrix           \n",
    "        \"\"\"\n",
    "\n",
    "        if matrix.dtype == np.dtype('complex128'):\n",
    "            self._matrix = matrix\n",
    "        else:\n",
    "            self._matrix = matrix.astype('complex128')\n",
    "\n",
    "        shape = self._matrix.shape\n",
    "        if shape[0] != shape[1]:\n",
    "            raise ValueError(\"Gate is not a square matrix\")\n",
    "\n",
    "        if not np.allclose(self._matrix.H * self._matrix, np.eye(shape[0])):\n",
    "            raise ValueError(\"Gate is not unitary\")\n",
    "\n",
    "    def __mul__(self, other):\n",
    "        \"\"\"Override matrix multiplication operator on QGate objects.\"\"\"\n",
    "        if hasattr(other, \"matrix\"):\n",
    "            return QGate(self.matrix * other.matrix)\n",
    "        return QGate(self.matrix, other)\n",
    "\n",
    "    \n",
    "    @classmethod\n",
    "    def String(cls, matrix_str):\n",
    "        \"\"\"Create a quantum gate from a string.\n",
    "        Args:\n",
    "            matrix_str: the string representation of the quantum gate\n",
    "        \"\"\"\n",
    "        matrix = np.matrix(str(matrix_str), dtype='complex128')\n",
    "        return QGate(matrix)\n",
    "\n",
    "\n",
    "    @classmethod\n",
    "    def Multiplication(cls, qu_gates):\n",
    "        \"\"\" Create a quantum gate by multiplying existing gates\n",
    "        Args:\n",
    "            qu_gates: a list of QGates to multiply\n",
    "        \"\"\"\n",
    "        if qu_gates:\n",
    "            matrix = qu_gates[0].matrix\n",
    "            for i in range(1, len(qu_gates)):\n",
    "                if matrix.shape != qu_gates[i].matrix.shape:\n",
    "                    raise ValueError(\"The matrices have different shapes\")\n",
    "\n",
    "                matrix = matrix * qu_gates[i].matrix\n",
    "\n",
    "            return QGate(matrix)\n",
    "        else:\n",
    "            raise ValueError(\"No gates specified\")\n",
    "\n",
    "\n",
    "\n",
    "\n",
    "    @classmethod\n",
    "    def Control(cls, qu_gate, control_qubit=1, target_qubit=2, num_qubits=2):\n",
    "        \"\"\" Creates a CONTROL-U gate\n",
    "        Args:\n",
    "            qu_gate: a U QGate\n",
    "            control_qubit: index of the control bit, the default is 1\n",
    "            target_qubit: the index of the target bit, the default is 2\n",
    "            num_qubits: total number of qubits, the default is 2\n",
    "        \"\"\"\n",
    "        \n",
    "        \"\"\"Perform some basic logic checks\"\"\"\n",
    "        if num_qubits < 2:\n",
    "            raise ValueError(\"control gates must operate on at least 2 qubits\")\n",
    "\n",
    "        if control_qubit == target_qubit:\n",
    "            raise ValueError(\"control qubit must be different than target qubit\")\n",
    "\n",
    "        if control_qubit > num_qubits:\n",
    "            raise ValueError(\"control qubit cannot be greater than total number of qubits\")\n",
    "\n",
    "        if target_qubit > num_qubits:\n",
    "            raise ValueErrorr(\"target qubit cannot be greater than total number of qubits\")\n",
    "\n",
    "        index = 1\n",
    "        \n",
    "        \n",
    "        control_mat = 1\n",
    "        target_mat = 1\n",
    "        \n",
    "        while index <= num_qubits:\n",
    "            if index == control_qubit:\n",
    "                    control_mat = np.kron(control_mat, np.eye(2))\n",
    "                    target_mat = np.kron(target_mat, qu_gate.matrix)\n",
    "\n",
    "            elif index == target_qubit:\n",
    "                    control_mat = np.kron(control_mat, ZERO.ket * ZERO.bra)\n",
    "                    target_mat = np.kron(target_mat, ONE.ket * ONE.bra)\n",
    "\n",
    "            else:\n",
    "                control_mat = np.kron(control_mat, np.eye(2))\n",
    "                target_mat = np.kron(target_mat, np.eye(2))\n",
    "\n",
    "            index += 1\n",
    "\n",
    "        control_gate = control_mat + target_mat\n",
    "        return QGate(control_gate)\n"
   ]
  },
  {
   "cell_type": "markdown",
   "metadata": {},
   "source": [
    ">Once the quantum gate is fully defined, single-qubit gates can be intialized as follows:"
   ]
  },
  {
   "cell_type": "code",
   "execution_count": 10,
   "metadata": {},
   "outputs": [
    {
     "name": "stdout",
     "output_type": "stream",
     "text": [
      "[[0.+0.j 1.+0.j]\n",
      " [1.+0.j 0.+0.j]]\n"
     ]
    }
   ],
   "source": [
    "X = QGate.String(\"0 1; 1 0\")\n",
    "\n",
    "print(X.matrix)"
   ]
  },
  {
   "cell_type": "markdown",
   "metadata": {},
   "source": [
    ">A multi-qubit $C_{X}$ gate using the LSB convention"
   ]
  },
  {
   "cell_type": "code",
   "execution_count": 11,
   "metadata": {},
   "outputs": [
    {
     "name": "stdout",
     "output_type": "stream",
     "text": [
      "[[1.+0.j 0.+0.j 0.+0.j 0.+0.j]\n",
      " [0.+0.j 0.+0.j 0.+0.j 1.+0.j]\n",
      " [0.+0.j 0.+0.j 1.+0.j 0.+0.j]\n",
      " [0.+0.j 1.+0.j 0.+0.j 0.+0.j]]\n"
     ]
    }
   ],
   "source": [
    "CNOT = QGate.Control(X,1,2)\n",
    "print(CNOT.matrix)"
   ]
  },
  {
   "cell_type": "markdown",
   "metadata": {},
   "source": [
    ">and $C_{X}$ gate using the MSB convention"
   ]
  },
  {
   "cell_type": "code",
   "execution_count": 12,
   "metadata": {},
   "outputs": [
    {
     "name": "stdout",
     "output_type": "stream",
     "text": [
      "[[1.+0.j 0.+0.j 0.+0.j 0.+0.j]\n",
      " [0.+0.j 1.+0.j 0.+0.j 0.+0.j]\n",
      " [0.+0.j 0.+0.j 0.+0.j 1.+0.j]\n",
      " [0.+0.j 0.+0.j 1.+0.j 0.+0.j]]\n"
     ]
    }
   ],
   "source": [
    "\n",
    "CNOT = QGate.Control(X,2,1)\n",
    "print(CNOT.matrix)"
   ]
  },
  {
   "cell_type": "markdown",
   "metadata": {},
   "source": [
    "# The CNOT Ring Gate"
   ]
  },
  {
   "cell_type": "markdown",
   "metadata": {},
   "source": [
    "The CNOT Ring gate as defined in the brief is a collection of CNOT gates connected in a ring formation. This gate is realised through an ordered multiplication of gates. This is simply implemented as a function that utilizes QBit and QGate class objects defined above as follows:\n"
   ]
  },
  {
   "cell_type": "code",
   "execution_count": 13,
   "metadata": {},
   "outputs": [],
   "source": [
    "def BasicEntanglerPython(num_qubits=2):\n",
    "    \"\"\"Create an arbitrary quantum CNOT Ring gate.\n",
    "        CNOT Ring are gates that connect every qubit to\n",
    "        its neighbouring qubit where the last qubit neighbours the first.\n",
    "        \n",
    "        Exceptions are raised by class objects.\n",
    "        \n",
    "        Args:\n",
    "            num_qubits: total number of qubits, default is 2\n",
    "         \n",
    "        \"\"\"\n",
    "    qu_gate = []\n",
    "    \n",
    "    for i in range(1, num_qubits):\n",
    "        qu_gate.append(QGate.Control(X, i,i+1,num_qubits))\n",
    "\n",
    "    if(num_qubits > 2):\n",
    "        qu_gate.insert(0,QGate.Control(X, num_qubits, 1 , num_qubits))\n",
    "\n",
    "    else:\n",
    "        print('''Ring must be greater than 2 Layers,\n",
    "                 dropping the entanglement between\n",
    "                 the last and the first qubit\n",
    "                 when using only two wires \\n''')\n",
    "\n",
    "    return qu_gate"
   ]
  },
  {
   "cell_type": "markdown",
   "metadata": {},
   "source": [
    "Finally, the function is demonstrated below"
   ]
  },
  {
   "cell_type": "code",
   "execution_count": 14,
   "metadata": {},
   "outputs": [
    {
     "name": "stdout",
     "output_type": "stream",
     "text": [
      "Enter number of Layers: Press enter for default(2)\n",
      "Ring must be greater than 2 Layers,\n",
      "                 dropping the entanglement between\n",
      "                 the last and the first qubit\n",
      "                 when using only two wires \n",
      "\n",
      "[[1.+0.j 0.+0.j 0.+0.j 0.+0.j]\n",
      " [0.+0.j 0.+0.j 0.+0.j 1.+0.j]\n",
      " [0.+0.j 0.+0.j 1.+0.j 0.+0.j]\n",
      " [0.+0.j 1.+0.j 0.+0.j 0.+0.j]]\n"
     ]
    }
   ],
   "source": [
    "num_qubits = int(input(\"Enter number of Layers: Press enter for default(2)\") or \"2\")\n",
    "\n",
    "CNOT_RING = QGate.Multiplication(BasicEntanglerPython(num_qubits))\n",
    "unitary_python = CNOT_RING.matrix\n",
    "print(unitary_python)"
   ]
  },
  {
   "cell_type": "markdown",
   "metadata": {},
   "source": [
    "\n",
    "# Result Validation\n",
    "\n",
    "\n"
   ]
  },
  {
   "cell_type": "markdown",
   "metadata": {},
   "source": [
    "A similar implementation of the CNOT Ring method using Qiskit is"
   ]
  },
  {
   "cell_type": "code",
   "execution_count": 15,
   "metadata": {},
   "outputs": [],
   "source": [
    "def BasicEntanglerQiskit(num_qubits=2):\n",
    "    \"\"\"The ring of CNOT gates connects every qubit with its neighbour,\n",
    "    with the last qubit being considered as a neighbour to the first qubit.\n",
    "    \n",
    "    Parameters:\n",
    "        number_of_bits (int): number of qubits in circuit, defualt is 2.\n",
    "    \"\"\"\n",
    "   \n",
    "    if int(num_qubits) < 2 :\n",
    "        raise ValueError(\"Number of bits must be greater than 1\")\n",
    "\n",
    "    circuit = QuantumCircuit(num_qubits)\n",
    "\n",
    "    for i in range (1,num_qubits):\n",
    "        circuit.cx(i-1, i)\n",
    "        \n",
    "    circuit.cx(num_qubits-1,0)\n",
    "    simulator = Aer.get_backend('unitary_simulator')\n",
    "    result    = execute(circuit, backend = simulator).result()\n",
    "    unitary_qiskit   = result.get_unitary()\n",
    "    circuit.draw('mpl',filename ='Multi-layer'+str(num_qubits))\n",
    "    return unitary_qiskit"
   ]
  },
  {
   "cell_type": "markdown",
   "metadata": {},
   "source": [
    "Finally, a verification of both implementations is defined as follows"
   ]
  },
  {
   "cell_type": "code",
   "execution_count": 16,
   "metadata": {},
   "outputs": [],
   "source": [
    "def Validate(num_qubits):\n",
    "    \"\"\"Basic Entangler verification method.\n",
    "    A method to verify the basic entangler, display the resultant matrices, \n",
    "    display element by element check and the overall verdict \n",
    "    of the validation process\n",
    "    \n",
    "    Parameters:\n",
    "        number_of_bits (int): number of qubits in circuit\n",
    "    \"\"\"\n",
    "\n",
    "    CNOT_RING = QGate.Multiplication(BasicEntanglerPython(num_qubits))\n",
    "    unitary_python = CNOT_RING.matrix\n",
    "\n",
    "    print(\"\\nResults from Python\\n\")\n",
    "    print(unitary_python)\n",
    "\n",
    "    print(\"\\nResults from Qiskit\\n\")\n",
    "\n",
    "    unitary_qiskit = BasicEntanglerQiskit(num_qubits) \n",
    "    print(unitary_qiskit)\n",
    "\n",
    "\n",
    "    print(\"\\nElement by Element Check\\n\")\n",
    "\n",
    "    print(unitary_python == unitary_qiskit)\n",
    "\n",
    "\n",
    "    print(\"\\nVerdict: \", end = '')\n",
    "\n",
    "    is_equal = np.allclose(unitary_python, unitary_qiskit)\n",
    "    if(is_equal):print(\"The results are exactly the same\")\n",
    "    else:print(\"The results are not the same\")\n",
    "\n"
   ]
  },
  {
   "cell_type": "markdown",
   "metadata": {},
   "source": [
    "For 5 layer Basic Entangler"
   ]
  },
  {
   "cell_type": "code",
   "execution_count": 17,
   "metadata": {},
   "outputs": [
    {
     "name": "stdout",
     "output_type": "stream",
     "text": [
      "Enter number of Layers, Press enter for default (5) \n",
      "\n",
      "Results from Python\n",
      "\n",
      "[[1.+0.j 0.+0.j 0.+0.j ... 0.+0.j 0.+0.j 0.+0.j]\n",
      " [0.+0.j 0.+0.j 0.+0.j ... 0.+0.j 0.+0.j 0.+0.j]\n",
      " [0.+0.j 0.+0.j 0.+0.j ... 0.+0.j 0.+0.j 0.+0.j]\n",
      " ...\n",
      " [0.+0.j 0.+0.j 0.+0.j ... 0.+0.j 0.+0.j 0.+0.j]\n",
      " [0.+0.j 1.+0.j 0.+0.j ... 0.+0.j 0.+0.j 0.+0.j]\n",
      " [0.+0.j 0.+0.j 1.+0.j ... 0.+0.j 0.+0.j 0.+0.j]]\n",
      "\n",
      "Results from Qiskit\n",
      "\n",
      "[[1.+0.j 0.+0.j 0.+0.j ... 0.+0.j 0.+0.j 0.+0.j]\n",
      " [0.+0.j 0.+0.j 0.+0.j ... 0.+0.j 0.+0.j 0.+0.j]\n",
      " [0.+0.j 0.+0.j 0.+0.j ... 0.+0.j 0.+0.j 0.+0.j]\n",
      " ...\n",
      " [0.+0.j 0.+0.j 0.+0.j ... 0.+0.j 0.+0.j 0.+0.j]\n",
      " [0.+0.j 1.+0.j 0.+0.j ... 0.+0.j 0.+0.j 0.+0.j]\n",
      " [0.+0.j 0.+0.j 1.+0.j ... 0.+0.j 0.+0.j 0.+0.j]]\n",
      "\n",
      "Element by Element Check\n",
      "\n",
      "[[ True  True  True ...  True  True  True]\n",
      " [ True  True  True ...  True  True  True]\n",
      " [ True  True  True ...  True  True  True]\n",
      " ...\n",
      " [ True  True  True ...  True  True  True]\n",
      " [ True  True  True ...  True  True  True]\n",
      " [ True  True  True ...  True  True  True]]\n",
      "\n",
      "Verdict: The results are exactly the same\n"
     ]
    }
   ],
   "source": [
    "num_qubits = int(input(\"Enter number of Layers, Press enter for default (5) \")or \"5\")\n",
    "Validate(num_qubits)"
   ]
  },
  {
   "cell_type": "markdown",
   "metadata": {},
   "source": [
    "\n",
    "The 5 Layer CNOT Ring is visualized below.\n",
    "<img src=\"Multi-layer5.png\"/>"
   ]
  },
  {
   "cell_type": "markdown",
   "metadata": {},
   "source": [
    "For 10 layer Basic Entangler\n"
   ]
  },
  {
   "cell_type": "code",
   "execution_count": 18,
   "metadata": {},
   "outputs": [
    {
     "name": "stdout",
     "output_type": "stream",
     "text": [
      "Enter number of Layers: Press enter for default (10) \n",
      "\n",
      "Results from Python\n",
      "\n",
      "[[1.+0.j 0.+0.j 0.+0.j ... 0.+0.j 0.+0.j 0.+0.j]\n",
      " [0.+0.j 0.+0.j 0.+0.j ... 0.+0.j 0.+0.j 0.+0.j]\n",
      " [0.+0.j 0.+0.j 0.+0.j ... 0.+0.j 0.+0.j 0.+0.j]\n",
      " ...\n",
      " [0.+0.j 0.+0.j 0.+0.j ... 0.+0.j 0.+0.j 0.+0.j]\n",
      " [0.+0.j 1.+0.j 0.+0.j ... 0.+0.j 0.+0.j 0.+0.j]\n",
      " [0.+0.j 0.+0.j 1.+0.j ... 0.+0.j 0.+0.j 0.+0.j]]\n",
      "\n",
      "Results from Qiskit\n",
      "\n",
      "[[1.+0.j 0.+0.j 0.+0.j ... 0.+0.j 0.+0.j 0.+0.j]\n",
      " [0.+0.j 0.+0.j 0.+0.j ... 0.+0.j 0.+0.j 0.+0.j]\n",
      " [0.+0.j 0.+0.j 0.+0.j ... 0.+0.j 0.+0.j 0.+0.j]\n",
      " ...\n",
      " [0.+0.j 0.+0.j 0.+0.j ... 0.+0.j 0.+0.j 0.+0.j]\n",
      " [0.+0.j 1.+0.j 0.+0.j ... 0.+0.j 0.+0.j 0.+0.j]\n",
      " [0.+0.j 0.+0.j 1.+0.j ... 0.+0.j 0.+0.j 0.+0.j]]\n",
      "\n",
      "Element by Element Check\n",
      "\n",
      "[[ True  True  True ...  True  True  True]\n",
      " [ True  True  True ...  True  True  True]\n",
      " [ True  True  True ...  True  True  True]\n",
      " ...\n",
      " [ True  True  True ...  True  True  True]\n",
      " [ True  True  True ...  True  True  True]\n",
      " [ True  True  True ...  True  True  True]]\n",
      "\n",
      "Verdict: The results are exactly the same\n"
     ]
    }
   ],
   "source": [
    "num_qubits = int(input(\"Enter number of Layers: Press enter for default (10) \")or \"10\")\n",
    "Validate(num_qubits)"
   ]
  },
  {
   "cell_type": "markdown",
   "metadata": {},
   "source": [
    "The 10 Layer CNOT Ring is visualized below.\n",
    "<img src=\"Multi-layer10.png\"/>"
   ]
  }
 ],
 "metadata": {
  "kernelspec": {
   "display_name": "Python 3",
   "language": "python",
   "name": "python3"
  },
  "language_info": {
   "codemirror_mode": {
    "name": "ipython",
    "version": 3
   },
   "file_extension": ".py",
   "mimetype": "text/x-python",
   "name": "python",
   "nbconvert_exporter": "python",
   "pygments_lexer": "ipython3",
   "version": "3.8.5"
  }
 },
 "nbformat": 4,
 "nbformat_minor": 5
}
